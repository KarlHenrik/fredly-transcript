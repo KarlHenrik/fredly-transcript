{
 "cells": [
  {
   "cell_type": "code",
   "execution_count": 48,
   "metadata": {},
   "outputs": [],
   "source": [
    "import re\n",
    "import json"
   ]
  },
  {
   "cell_type": "code",
   "execution_count": 7,
   "metadata": {},
   "outputs": [],
   "source": [
    "with open(\"meditations.txt\") as ofile:\n",
    "    text = ofile.read()"
   ]
  },
  {
   "cell_type": "code",
   "execution_count": 46,
   "metadata": {},
   "outputs": [],
   "source": [
    "split_text = re.split(\"([?.;!]+)\", text.replace(\"\\n\", \" \"))\n",
    "split_text = [\n",
    "    (split_text[i] + split_text[i + 1]).strip()\n",
    "    for i in range(0, len(split_text) - 1, 2)\n",
    "]"
   ]
  },
  {
   "cell_type": "code",
   "execution_count": null,
   "metadata": {},
   "outputs": [],
   "source": [
    "{\n",
    "    \"text\": \"I wish I'd known him.\",\n",
    "    \"time\": \"00:20.7\",\n",
    "    \"ID\": 0,\n",
    "    \"speaker\": {\"name\": \"Luke\", \"color\": \"#369ACC\"},\n",
    "}"
   ]
  },
  {
   "cell_type": "code",
   "execution_count": 56,
   "metadata": {},
   "outputs": [],
   "source": [
    "speakers = '[{\"name\":\"Marcus\",\"color\":\"#369ACC\"}]'"
   ]
  },
  {
   "cell_type": "code",
   "execution_count": 91,
   "metadata": {},
   "outputs": [
    {
     "data": {
      "text/plain": [
       "'helloFrom my grandfather Verus I learned good morals and the government of my temper.there'"
      ]
     },
     "execution_count": 91,
     "metadata": {},
     "output_type": "execute_result"
    }
   ],
   "source": [
    "f\"hello{split_text[0]}there\""
   ]
  },
  {
   "cell_type": "code",
   "execution_count": 181,
   "metadata": {},
   "outputs": [],
   "source": [
    "cells = [\n",
    "    f'{{\"text\": \"{split_text[i].replace(\"\\\"\",\"\\\\\\\"\")}\", \"time\": \"\", \"speaker\":{{\"name\":\"Marcus\",\"color\":\"#369ACC\"}}, \"ID\":0}}'\n",
    "    for i in range(len(split_text))\n",
    "]"
   ]
  },
  {
   "cell_type": "code",
   "execution_count": 182,
   "metadata": {},
   "outputs": [],
   "source": [
    "blob = f'{{\"speakers\": {speakers}, \"contents\": [{\", \".join(cells)}],  \"copiedCell\":null,\"prevfocus\":0,\"newfocus\":0}}'"
   ]
  },
  {
   "cell_type": "code",
   "execution_count": 189,
   "metadata": {},
   "outputs": [],
   "source": [
    "import json\n",
    "\n",
    "with open(\"jaja.json\", \"w\") as f:\n",
    "    json.dump(json.loads(blob), f, ensure_ascii=False, indent=2)"
   ]
  },
  {
   "cell_type": "code",
   "execution_count": 150,
   "metadata": {},
   "outputs": [],
   "source": [
    "with open(\"write.txt\", \"w\") as ofile:\n",
    "    ofile.write(blob)"
   ]
  }
 ],
 "metadata": {
  "kernelspec": {
   "display_name": "Python 3",
   "language": "python",
   "name": "python3"
  },
  "language_info": {
   "codemirror_mode": {
    "name": "ipython",
    "version": 3
   },
   "file_extension": ".py",
   "mimetype": "text/x-python",
   "name": "python",
   "nbconvert_exporter": "python",
   "pygments_lexer": "ipython3",
   "version": "3.12.8"
  }
 },
 "nbformat": 4,
 "nbformat_minor": 2
}
